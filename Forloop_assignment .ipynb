{
 "cells": [
  {
   "cell_type": "code",
   "execution_count": 3,
   "id": "6aa2f6b4-1a98-4e4d-a3bd-54fc7d6d8182",
   "metadata": {},
   "outputs": [
    {
     "name": "stdout",
     "output_type": "stream",
     "text": [
      "1\n",
      "2\n",
      "3\n",
      "4\n",
      "5\n",
      "6\n",
      "7\n",
      "8\n",
      "9\n",
      "10\n"
     ]
    }
   ],
   "source": [
    "for i in range (1,11):\n",
    "    print(i)"
   ]
  },
  {
   "cell_type": "code",
   "execution_count": 10,
   "id": "5c1f8758-14f3-41c4-9574-d53939a3fa1c",
   "metadata": {},
   "outputs": [
    {
     "name": "stdout",
     "output_type": "stream",
     "text": [
      "5050\n"
     ]
    }
   ],
   "source": [
    "sum = 0\n",
    "for i in range (1,101):\n",
    "    sum += i\n",
    "print(sum)"
   ]
  },
  {
   "cell_type": "code",
   "execution_count": 1,
   "id": "06d56f5f-ec3b-484d-9637-1672c81d5951",
   "metadata": {},
   "outputs": [
    {
     "name": "stdin",
     "output_type": "stream",
     "text": [
      "Enter the number:  4\n"
     ]
    },
    {
     "name": "stdout",
     "output_type": "stream",
     "text": [
      "4 x 1 = 4\n",
      "4 x 2 = 8\n",
      "4 x 3 = 12\n",
      "4 x 4 = 16\n",
      "4 x 5 = 20\n",
      "4 x 6 = 24\n",
      "4 x 7 = 28\n",
      "4 x 8 = 32\n",
      "4 x 9 = 36\n",
      "4 x 10 = 40\n"
     ]
    }
   ],
   "source": [
    "table = int(input(\"Enter the number: \"))\n",
    "for i in range (1,11):\n",
    "    print(f\"{table} x {i} = {i*table}\")"
   ]
  },
  {
   "cell_type": "code",
   "execution_count": 5,
   "id": "772d3355-eb62-428d-9521-e53f4d0684f5",
   "metadata": {},
   "outputs": [
    {
     "name": "stdout",
     "output_type": "stream",
     "text": [
      "5\n",
      "5\n"
     ]
    }
   ],
   "source": [
    "numbers = [1, 2, 3, 4, 5, 6, 7, 8, 9, 10]\n",
    "\n",
    "even_count = 0\n",
    "odd_count = 0\n",
    "\n",
    "for i in numbers:\n",
    "    if i % 2 == 0:\n",
    "        even_count += 1\n",
    "    else:\n",
    "        odd_count += 1\n",
    "print(even_count)\n",
    "print(odd_count)"
   ]
  },
  {
   "cell_type": "code",
   "execution_count": 4,
   "id": "98a3547c-248a-431e-bb48-1b7d93105e49",
   "metadata": {},
   "outputs": [
    {
     "name": "stdin",
     "output_type": "stream",
     "text": [
      "Enter the number to find factorial:  9\n"
     ]
    },
    {
     "name": "stdout",
     "output_type": "stream",
     "text": [
      "The factorial of 9 is 362880\n"
     ]
    }
   ],
   "source": [
    "\n",
    "number = int(input(\"Enter the number to find factorial: \"))\n",
    "\n",
    "factorial = 1\n",
    "for i in range(1,number+1):\n",
    "    factorial *=i\n",
    "print(f\"The factorial of {number} is {factorial}\")\n",
    "\n"
   ]
  },
  {
   "cell_type": "code",
   "execution_count": 3,
   "id": "5c8d1572-6fc2-4937-a221-159b463bf31b",
   "metadata": {},
   "outputs": [
    {
     "name": "stdin",
     "output_type": "stream",
     "text": [
      "Enter the number to print in fibonnaci sequence:  10\n"
     ]
    },
    {
     "name": "stdout",
     "output_type": "stream",
     "text": [
      "0 1 1 2 3 5 8 13 21 34 "
     ]
    }
   ],
   "source": [
    "number_input = int(input(\"Enter the number to print in fibonnaci sequence: \"))\n",
    "\n",
    "a, b = 0,1\n",
    "for i in range(number_input):\n",
    "    print(a,end = \" \")\n",
    "    a,b = b, a+b\n"
   ]
  },
  {
   "cell_type": "code",
   "execution_count": 6,
   "id": "918e9bde-576f-4b7a-bd3b-86205de2ed05",
   "metadata": {},
   "outputs": [
    {
     "name": "stdin",
     "output_type": "stream",
     "text": [
      "Enter the number:  1\n"
     ]
    },
    {
     "name": "stdout",
     "output_type": "stream",
     "text": [
      "This is not a prime number\n"
     ]
    }
   ],
   "source": [
    "number_input = int(input(\"Enter the number: \"))\n",
    "\n",
    "if number_input ==1 or number_input <=1:\n",
    "    print(\"This is not a prime number\")\n",
    "if number_input > 1:\n",
    "    for i in range (2,number_input):\n",
    "        if number_input % i == 0:\n",
    "            print(\"it is not a prime number\")\n",
    "            break\n",
    "    else:\n",
    "            print(\"It is a prime number\")"
   ]
  },
  {
   "cell_type": "code",
   "execution_count": 4,
   "id": "23d72bfc-6e58-46de-ad27-d90b76ca5220",
   "metadata": {},
   "outputs": [
    {
     "name": "stdout",
     "output_type": "stream",
     "text": [
      "The largest element in the list is: 92\n"
     ]
    }
   ],
   "source": [
    "my_list = [18, 52, 23, 41, 32,84,92]\n",
    "\n",
    "largest = my_list[0]\n",
    "for i in my_list:\n",
    "    if i > largest:\n",
    "        largest = i\n",
    "print(\"The largest element in the list is:\", largest)"
   ]
  },
  {
   "cell_type": "code",
   "execution_count": 13,
   "id": "81af28c6-9765-4da0-ad84-66c7548e7236",
   "metadata": {},
   "outputs": [
    {
     "name": "stdin",
     "output_type": "stream",
     "text": [
      "Enter the string to reverse:  rishi\n"
     ]
    },
    {
     "name": "stdout",
     "output_type": "stream",
     "text": [
      "ihsir\n"
     ]
    }
   ],
   "source": [
    "str_input = str(input(\"Enter the string to reverse: \"))\n",
    "reversed_string = \"\"\n",
    "for i in range(len(str_input)-1,-1,-1):\n",
    "    reversed_string += str_input[i]\n",
    "print(reversed_string)"
   ]
  },
  {
   "cell_type": "code",
   "execution_count": 25,
   "id": "2b3bf8d1-044f-4a17-afdb-4989d80e595f",
   "metadata": {},
   "outputs": [
    {
     "name": "stdout",
     "output_type": "stream",
     "text": [
      "[1]\n"
     ]
    }
   ],
   "source": [
    "List1 = [1,2,3,]\n",
    "List2 = [4,5,1,]\n",
    "\n",
    "common_elements = []\n",
    "for item in List1:\n",
    "    if item in List2 and item not in common_elements:\n",
    "         common_elements.append(item)\n",
    "print(common_elements)"
   ]
  },
  {
   "cell_type": "code",
   "execution_count": 28,
   "id": "e7600a72-cda3-4279-b66c-fd2808cbfcdc",
   "metadata": {},
   "outputs": [
    {
     "name": "stdin",
     "output_type": "stream",
     "text": [
      "Enter a number to find its factorial:  10\n"
     ]
    },
    {
     "name": "stdout",
     "output_type": "stream",
     "text": [
      "The factorial of 10 is: 3628800\n"
     ]
    }
   ],
   "source": [
    "def factorial(n):\n",
    "    if n < 0:\n",
    "        return None  # Factorial is not defined for negative numbers\n",
    "    elif n == 0:\n",
    "        return 1  # 0! is defined as 1\n",
    "    else:\n",
    "        result = 1\n",
    "        # Calculate factorial using a for loop\n",
    "        for i in range(1, n + 1):\n",
    "            result *= i\n",
    "        return result\n",
    "\n",
    "# Example usage:\n",
    "number = int(input(\"Enter a number to find its factorial: \"))\n",
    "factorial_result = factorial(number)\n",
    "\n",
    "if factorial_result is None:\n",
    "    print(\"Factorial is not defined for negative numbers.\")\n",
    "else:\n",
    "    print(f\"The factorial of {number} is:\", factorial_result)\n"
   ]
  },
  {
   "cell_type": "code",
   "execution_count": null,
   "id": "3bc991c3-116f-43a6-acca-831edb816889",
   "metadata": {},
   "outputs": [],
   "source": []
  }
 ],
 "metadata": {
  "kernelspec": {
   "display_name": "Python 3 (ipykernel)",
   "language": "python",
   "name": "python3"
  },
  "language_info": {
   "codemirror_mode": {
    "name": "ipython",
    "version": 3
   },
   "file_extension": ".py",
   "mimetype": "text/x-python",
   "name": "python",
   "nbconvert_exporter": "python",
   "pygments_lexer": "ipython3",
   "version": "3.10.2"
  }
 },
 "nbformat": 4,
 "nbformat_minor": 5
}
